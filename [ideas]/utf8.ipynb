{
 "cells": [
  {
   "cell_type": "markdown",
   "metadata": {},
   "source": [
    "# Let us create some characters"
   ]
  },
  {
   "cell_type": "markdown",
   "metadata": {},
   "source": [
    "## Latin lowercase"
   ]
  },
  {
   "cell_type": "code",
   "execution_count": 4,
   "metadata": {
    "collapsed": false
   },
   "outputs": [
    {
     "name": "stdout",
     "output_type": "stream",
     "text": [
      "c.add(\"a\")\n",
      "c.add(\"b\")\n",
      "c.add(\"c\")\n",
      "c.add(\"d\")\n",
      "c.add(\"e\")\n",
      "c.add(\"f\")\n",
      "c.add(\"g\")\n",
      "c.add(\"h\")\n",
      "c.add(\"i\")\n",
      "c.add(\"j\")\n",
      "c.add(\"k\")\n",
      "c.add(\"l\")\n",
      "c.add(\"m\")\n",
      "c.add(\"n\")\n",
      "c.add(\"o\")\n",
      "c.add(\"p\")\n",
      "c.add(\"q\")\n",
      "c.add(\"r\")\n",
      "c.add(\"s\")\n",
      "c.add(\"t\")\n",
      "c.add(\"u\")\n",
      "c.add(\"v\")\n",
      "c.add(\"w\")\n",
      "c.add(\"x\")\n",
      "c.add(\"y\")\n",
      "c.add(\"z\")\n"
     ]
    }
   ],
   "source": [
    "for c in range(ord('a'),ord('z')+1):\n",
    "    print('c.add(\"' + chr(c) + '\")')\n"
   ]
  },
  {
   "cell_type": "markdown",
   "metadata": {},
   "source": [
    "## Latin Uppercase"
   ]
  },
  {
   "cell_type": "code",
   "execution_count": 5,
   "metadata": {
    "collapsed": false
   },
   "outputs": [
    {
     "name": "stdout",
     "output_type": "stream",
     "text": [
      "c.add(\"A\")\n",
      "c.add(\"B\")\n",
      "c.add(\"C\")\n",
      "c.add(\"D\")\n",
      "c.add(\"E\")\n",
      "c.add(\"F\")\n",
      "c.add(\"G\")\n",
      "c.add(\"H\")\n",
      "c.add(\"I\")\n",
      "c.add(\"J\")\n",
      "c.add(\"K\")\n",
      "c.add(\"L\")\n",
      "c.add(\"M\")\n",
      "c.add(\"N\")\n",
      "c.add(\"O\")\n",
      "c.add(\"P\")\n",
      "c.add(\"Q\")\n",
      "c.add(\"R\")\n",
      "c.add(\"S\")\n",
      "c.add(\"T\")\n",
      "c.add(\"U\")\n",
      "c.add(\"V\")\n",
      "c.add(\"W\")\n",
      "c.add(\"X\")\n",
      "c.add(\"Y\")\n",
      "c.add(\"Z\")\n"
     ]
    }
   ],
   "source": [
    "for c in range(ord('A'),ord('Z')+1):\n",
    "    print('c.add(\"' + chr(c) + '\")')"
   ]
  },
  {
   "cell_type": "markdown",
   "metadata": {},
   "source": [
    "## Greek lowercase"
   ]
  },
  {
   "cell_type": "code",
   "execution_count": 7,
   "metadata": {
    "collapsed": false
   },
   "outputs": [
    {
     "name": "stdout",
     "output_type": "stream",
     "text": [
      "c.add(\"α\")\n",
      "c.add(\"β\")\n",
      "c.add(\"γ\")\n",
      "c.add(\"δ\")\n",
      "c.add(\"ε\")\n",
      "c.add(\"ζ\")\n",
      "c.add(\"η\")\n",
      "c.add(\"θ\")\n",
      "c.add(\"ι\")\n",
      "c.add(\"κ\")\n",
      "c.add(\"λ\")\n",
      "c.add(\"μ\")\n",
      "c.add(\"ν\")\n",
      "c.add(\"ξ\")\n",
      "c.add(\"ο\")\n",
      "c.add(\"π\")\n",
      "c.add(\"ρ\")\n",
      "c.add(\"ς\")\n",
      "c.add(\"σ\")\n",
      "c.add(\"τ\")\n",
      "c.add(\"υ\")\n",
      "c.add(\"φ\")\n",
      "c.add(\"χ\")\n",
      "c.add(\"ψ\")\n",
      "c.add(\"ω\")\n"
     ]
    }
   ],
   "source": [
    "for c in range(ord('α'),ord('ω')+1):\n",
    "    print('c.add(\"' + chr(c) + '\")')"
   ]
  },
  {
   "cell_type": "code",
   "execution_count": null,
   "metadata": {
    "collapsed": true
   },
   "outputs": [],
   "source": []
  }
 ],
 "metadata": {
  "kernelspec": {
   "display_name": "Python 3",
   "language": "python",
   "name": "python3"
  },
  "language_info": {
   "codemirror_mode": {
    "name": "ipython",
    "version": 3
   },
   "file_extension": ".py",
   "mimetype": "text/x-python",
   "name": "python",
   "nbconvert_exporter": "python",
   "pygments_lexer": "ipython3",
   "version": "3.5.2"
  }
 },
 "nbformat": 4,
 "nbformat_minor": 0
}
